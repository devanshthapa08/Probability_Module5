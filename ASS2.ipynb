{
 "cells": [
  {
   "cell_type": "markdown",
   "id": "0ba80c09-3df1-45fa-8e72-a253be1f369d",
   "metadata": {},
   "source": [
    "# 1: Basics of Probability"
   ]
  },
  {
   "cell_type": "code",
   "execution_count": 1,
   "id": "516cd94f-68ee-42e5-8344-f3ca256e882b",
   "metadata": {},
   "outputs": [],
   "source": [
    "import random\n"
   ]
  },
  {
   "cell_type": "code",
   "execution_count": 2,
   "id": "b22363c0-fa90-4479-9f32-e38e75929cae",
   "metadata": {},
   "outputs": [
    {
     "name": "stdout",
     "output_type": "stream",
     "text": [
      "Experimental Probability of Heads: 0.5128\n",
      "Experimental Probability of Tails: 0.4872\n"
     ]
    }
   ],
   "source": [
    "# Simulate tossing a coin 10,000 times\n",
    "def coin_toss_simulation(n=10000):\n",
    "    heads = 0\n",
    "    for _ in range(n):\n",
    "        if random.choice(['H', 'T']) == 'H':\n",
    "            heads += 1\n",
    "    tails = n - heads\n",
    "    return heads/n, tails/n\n",
    "\n",
    "# Run the simulation\n",
    "heads_prob, tails_prob = coin_toss_simulation()\n",
    "print(f\"Experimental Probability of Heads: {heads_prob}\")\n",
    "print(f\"Experimental Probability of Tails: {tails_prob}\")\n"
   ]
  },
  {
   "cell_type": "code",
   "execution_count": 3,
   "id": "47b6e6bc-c93b-44c4-9a2d-0651e0d712d2",
   "metadata": {},
   "outputs": [
    {
     "name": "stdout",
     "output_type": "stream",
     "text": [
      "Probability of getting a sum of 7: 0.1669\n"
     ]
    }
   ],
   "source": [
    "# Simulate rolling two dice and check probability of sum = 7\n",
    "def dice_sum_simulation(n=10000):\n",
    "    count_7 = 0\n",
    "    for _ in range(n):\n",
    "        dice_sum = random.randint(1, 6) + random.randint(1, 6)\n",
    "        if dice_sum == 7:\n",
    "            count_7 += 1\n",
    "    return count_7 / n\n",
    "\n",
    "# Run the simulation\n",
    "prob_sum_7 = dice_sum_simulation()\n",
    "print(f\"Probability of getting a sum of 7: {prob_sum_7}\")\n"
   ]
  },
  {
   "cell_type": "markdown",
   "id": "4f66c143-d4ab-45e3-a698-3f9083ba6355",
   "metadata": {},
   "source": [
    "\n",
    "EXPLANATION\n",
    "\n",
    "Cell 1 imports the random module, which is essential for simulating random events like coin tosses and dice rolls.\n",
    "\n",
    " Cell 2 defines and runs a simulation to toss a fair coin 10,000 times. It uses random.choice(['H', 'T']) to randomly pick heads or tails for each toss. The code counts how many times heads and tails occur, and calculates the experimental probabilities of both outcomes.\n",
    "\n",
    " Cell 3 simulates rolling two dice 10,000 times. For each trial, it generates two random integers between 1 and 6 using random.randint(1, 6), adds them, and checks if their sum is 7. It then calculates the probability of getting a sum of 7 based on how many times it occurred in all trials.\n",
    "\n"
   ]
  },
  {
   "cell_type": "markdown",
   "id": "0f47227a-0b52-4aa0-b9be-e74409070815",
   "metadata": {},
   "source": [
    "# 2: Estimate the Probability of Getting at Least One \"6\" in 10 Rolls of a Fair Die\n"
   ]
  },
  {
   "cell_type": "code",
   "execution_count": 4,
   "id": "f3c92197-6b72-4bcf-96c6-9a9900f4fa55",
   "metadata": {},
   "outputs": [],
   "source": [
    "import random\n"
   ]
  },
  {
   "cell_type": "code",
   "execution_count": 5,
   "id": "91e20e5e-8848-4008-9393-3807e5c6938e",
   "metadata": {},
   "outputs": [
    {
     "name": "stdout",
     "output_type": "stream",
     "text": [
      "Estimated Probability of getting at least one 6 in 10 rolls: 0.8389\n"
     ]
    }
   ],
   "source": [
    "def estimate_probability_of_six(trials=10000):\n",
    "    success_count = 0\n",
    "    \n",
    "    for _ in range(trials):\n",
    "        found_six = False\n",
    "        for _ in range(10):  # roll 10 times\n",
    "            if random.randint(1, 6) == 6:\n",
    "                found_six = True\n",
    "                break\n",
    "        if found_six:\n",
    "            success_count += 1\n",
    "    \n",
    "    return success_count / trials\n",
    "\n",
    "probability = estimate_probability_of_six()\n",
    "print(f\"Estimated Probability of getting at least one 6 in 10 rolls: {probability}\")\n"
   ]
  },
  {
   "cell_type": "markdown",
   "id": "536d9df5-a0a7-443c-a451-42c55d2422a9",
   "metadata": {},
   "source": [
    "Explanation:\n",
    "\n",
    "We simulate 10 rolls of a die in each trial.\n",
    "\n",
    "If at least one 6 appears, it's a successful trial.\n",
    "\n",
    "We repeat this simulation (default: 10,000 trials).\n",
    "\n",
    "Finally, we return the proportion of successful trials as the estimated probability.\n",
    "\n"
   ]
  },
  {
   "cell_type": "markdown",
   "id": "e002c2b6-18f6-4d9a-a4fb-2ac807ffeece",
   "metadata": {},
   "source": [
    "# 3: Conditional Probability and Bayes’ Theorem"
   ]
  },
  {
   "cell_type": "code",
   "execution_count": 6,
   "id": "f185afe5-b9b4-48d0-8afd-248e01f8363e",
   "metadata": {},
   "outputs": [],
   "source": [
    "import random\n"
   ]
  },
  {
   "cell_type": "code",
   "execution_count": 7,
   "id": "1df0e096-5a42-4ea2-a976-39db1cdae71d",
   "metadata": {},
   "outputs": [],
   "source": [
    "def simulate_draws(trials=1000):\n",
    "    bag = ['red'] * 5 + ['green'] * 7 + ['blue'] * 8\n",
    "    draws = []\n",
    "\n",
    "    for _ in range(trials):\n",
    "        draws.append(random.choice(bag))\n",
    "    \n",
    "    return draws\n"
   ]
  },
  {
   "cell_type": "code",
   "execution_count": 8,
   "id": "93bf1303-2d35-408f-93d6-43de4317694b",
   "metadata": {},
   "outputs": [],
   "source": [
    "def conditional_probability(draws):\n",
    "    count_blue = 0\n",
    "    count_red_given_blue = 0\n",
    "\n",
    "    for i in range(1, len(draws)):\n",
    "        if draws[i-1] == 'blue':\n",
    "            count_blue += 1\n",
    "            if draws[i] == 'red':\n",
    "                count_red_given_blue += 1\n",
    "\n",
    "    if count_blue == 0:\n",
    "        return 0\n",
    "    return count_red_given_blue / count_blue\n"
   ]
  },
  {
   "cell_type": "code",
   "execution_count": 9,
   "id": "7fc11e41-d3ef-44ee-b0ac-553919a76d70",
   "metadata": {},
   "outputs": [
    {
     "name": "stdout",
     "output_type": "stream",
     "text": [
      "Estimated P(Red | Previous was Blue): 0.27918781725888325\n"
     ]
    }
   ],
   "source": [
    "draws = simulate_draws(1000)\n",
    "prob_red_given_blue = conditional_probability(draws)\n",
    "print(f\"Estimated P(Red | Previous was Blue): {prob_red_given_blue}\")\n"
   ]
  },
  {
   "cell_type": "code",
   "execution_count": 10,
   "id": "f6f99eff-103a-4a3d-99aa-0f37d471ec89",
   "metadata": {},
   "outputs": [
    {
     "name": "stdout",
     "output_type": "stream",
     "text": [
      "Theoretical P(Red): 0.25\n"
     ]
    }
   ],
   "source": [
    "# Total probabilities from bag\n",
    "P_red = 5/20\n",
    "P_blue = 8/20\n",
    "\n",
    "# By symmetry and independence (with replacement), P(Red | Blue) ≈ P(Red)\n",
    "print(f\"Theoretical P(Red): {P_red}\")\n"
   ]
  },
  {
   "cell_type": "markdown",
   "id": "e6e0e455-51cb-4c65-8f6f-857fe9d877d1",
   "metadata": {},
   "source": [
    "# 4: Random Variables and Discrete Probability"
   ]
  },
  {
   "cell_type": "code",
   "execution_count": 11,
   "id": "45376e44-f733-4ede-80af-0ea44cd9c427",
   "metadata": {},
   "outputs": [],
   "source": [
    "import numpy as np\n"
   ]
  },
  {
   "cell_type": "code",
   "execution_count": 12,
   "id": "ee928821-43d2-4404-933e-3533854cb757",
   "metadata": {},
   "outputs": [],
   "source": [
    "# Define the values and their probabilities\n",
    "values = [1, 2, 3]\n",
    "probabilities = [0.25, 0.35, 0.40]\n",
    "\n",
    "# Generate sample of size 1000\n",
    "sample = np.random.choice(values, size=1000, p=probabilities)\n"
   ]
  },
  {
   "cell_type": "code",
   "execution_count": 13,
   "id": "595fbfd0-878a-4a77-b29d-6565fa45ad52",
   "metadata": {},
   "outputs": [
    {
     "name": "stdout",
     "output_type": "stream",
     "text": [
      "Empirical Mean: 2.179\n",
      "Empirical Variance: 0.624959\n",
      "Empirical Standard Deviation: 0.7905434839400044\n"
     ]
    }
   ],
   "source": [
    "mean = np.mean(sample)\n",
    "variance = np.var(sample)\n",
    "std_deviation = np.std(sample)\n",
    "\n",
    "print(f\"Empirical Mean: {mean}\")\n",
    "print(f\"Empirical Variance: {variance}\")\n",
    "print(f\"Empirical Standard Deviation: {std_deviation}\")\n"
   ]
  },
  {
   "cell_type": "markdown",
   "id": "738b20ba-f1e8-4805-a631-e75b2805cb2e",
   "metadata": {},
   "source": [
    "EXPLAMATION:\n",
    "\n",
    "We use NumPy functions:\n",
    "\n",
    "np.mean() to calculate the average of the sample.\n",
    "\n",
    "np.var() to calculate the variance, which measures how spread out the values are.\n",
    "\n",
    "np.std() to calculate the standard deviation, which is the square root of variance.\n",
    "\n"
   ]
  },
  {
   "cell_type": "markdown",
   "id": "4280ad1f-85b1-4497-8181-23122bb63412",
   "metadata": {},
   "source": [
    "# 5: Continuous Random Variables"
   ]
  },
  {
   "cell_type": "code",
   "execution_count": 14,
   "id": "10d8c7b0-1a69-4de2-8759-3a41a6586978",
   "metadata": {},
   "outputs": [],
   "source": [
    "import numpy as np\n",
    "import matplotlib.pyplot as plt\n"
   ]
  },
  {
   "cell_type": "code",
   "execution_count": 15,
   "id": "63446c45-b07d-4d06-bf7e-29a7954ed8bb",
   "metadata": {},
   "outputs": [],
   "source": [
    "# Set mean (scale) to 5\n",
    "mean = 5\n",
    "sample_size = 2000\n",
    "\n",
    "# Generate exponential samples\n",
    "samples = np.random.exponential(scale=mean, size=sample_size)\n"
   ]
  },
  {
   "cell_type": "code",
   "execution_count": 16,
   "id": "86ddf9a5-99a4-4203-ab31-478f67639e1f",
   "metadata": {},
   "outputs": [
    {
     "data": {
      "image/png": "[encoded data removed]",
      "text/plain": [
       "<Figure size 1000x600 with 1 Axes>"
      ]
     },
     "metadata": {},
     "output_type": "display_data"
    }
   ],
   "source": [
    "# Create histogram\n",
    "plt.figure(figsize=(10, 6))\n",
    "count, bins, _ = plt.hist(samples, bins=30, density=True, alpha=0.6, color='skyblue', label='Histogram')\n",
    "\n",
    "# PDF overlay\n",
    "x = np.linspace(0, max(samples), 1000)\n",
    "pdf = (1/mean) * np.exp(-x / mean)\n",
    "plt.plot(x, pdf, 'r-', label='PDF (Exponential)', linewidth=2)\n",
    "\n",
    "# Labels and legend\n",
    "plt.title(\"Exponential Distribution (mean = 5)\")\n",
    "plt.xlabel(\"Value\")\n",
    "plt.ylabel(\"Density\")\n",
    "plt.legend()\n",
    "plt.grid(True)\n",
    "plt.show()\n"
   ]
  },
  {
   "cell_type": "markdown",
   "id": "80e7eb1e-c964-4cc4-9cdf-25c768c11966",
   "metadata": {},
   "source": [
    "# 6: Central Limit Theorem (CLT) Simulation"
   ]
  },
  {
   "cell_type": "code",
   "execution_count": 17,
   "id": "fa61d2dc-4ae0-4b3b-991a-0bd2147a5552",
   "metadata": {},
   "outputs": [],
   "source": [
    "import numpy as np\n",
    "import matplotlib.pyplot as plt\n"
   ]
  },
  {
   "cell_type": "code",
   "execution_count": 19,
   "id": "e09f82b1-63dc-4a54-941b-24d329a3f7ae",
   "metadata": {},
   "outputs": [],
   "source": [
    "uniform_data = np.random.uniform(low=0.0, high=1.0, size=10000)"
   ]
  },
  {
   "cell_type": "code",
   "execution_count": 20,
   "id": "a3e1564a-16bc-4354-a713-da3869c242cf",
   "metadata": {},
   "outputs": [],
   "source": [
    "sample_means = []\n",
    "\n",
    "# Draw 1000 samples of size 30\n",
    "for _ in range(1000):\n",
    "    sample = np.random.choice(uniform_data, size=30)\n",
    "    sample_means.append(np.mean(sample))\n"
   ]
  },
  {
   "cell_type": "code",
   "execution_count": 21,
   "id": "49272439-2a68-4c3e-b726-8f72dc37f607",
   "metadata": {},
   "outputs": [
    {
     "data": {
      "image/png": "[encoded data removed]",
      "text/plain": [
       "<Figure size 1000x500 with 1 Axes>"
      ]
     },
     "metadata": {},
     "output_type": "display_data"
    }
   ],
   "source": [
    "plt.figure(figsize=(10, 5))\n",
    "plt.hist(uniform_data, bins=30, density=True, alpha=0.7, color='skyblue')\n",
    "plt.title(\"Original Uniform Distribution\")\n",
    "plt.xlabel(\"Value\")\n",
    "plt.ylabel(\"Density\")\n",
    "plt.grid(True)\n",
    "plt.show()\n"
   ]
  },
  {
   "cell_type": "code",
   "execution_count": 22,
   "id": "1ad33d78-78cc-4d6f-97ab-ebb4c01f9537",
   "metadata": {},
   "outputs": [
    {
     "data": {
      "image/png": "[encoded data removed]",
      "text/plain": [
       "<Figure size 1000x500 with 1 Axes>"
      ]
     },
     "metadata": {},
     "output_type": "display_data"
    }
   ],
   "source": [
    "plt.figure(figsize=(10, 5))\n",
    "plt.hist(sample_means, bins=30, density=True, alpha=0.7, color='orange')\n",
    "plt.title(\"Distribution of Sample Means (n=30)\")\n",
    "plt.xlabel(\"Sample Mean\")\n",
    "plt.ylabel(\"Density\")\n",
    "plt.grid(True)\n",
    "plt.show()\n"
   ]
  },
  {
   "cell_type": "code",
   "execution_count": null,
   "id": "14b167de-9931-4989-9a42-b774793a6283",
   "metadata": {},
   "outputs": [],
   "source": [
    "S"
   ]
  }
 ],
 "metadata": {
  "kernelspec": {
   "display_name": "Python 3 (ipykernel)",
   "language": "python",
   "name": "python3"
  },
  "language_info": {
   "codemirror_mode": {
    "name": "ipython",
    "version": 3
   },
   "file_extension": ".py",
   "mimetype": "text/x-python",
   "name": "python",
   "nbconvert_exporter": "python",
   "pygments_lexer": "ipython3",
   "version": "3.12.7"
  }
 },
 "nbformat": 4,
 "nbformat_minor": 5
}
